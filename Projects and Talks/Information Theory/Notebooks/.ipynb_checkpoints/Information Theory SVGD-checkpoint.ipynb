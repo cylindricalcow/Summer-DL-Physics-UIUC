{
 "cells": [
  {
   "cell_type": "code",
   "execution_count": 2,
   "metadata": {},
   "outputs": [
    {
     "name": "stderr",
     "output_type": "stream",
     "text": [
      "WARNING (theano.configdefaults): g++ not available, if using conda: `conda install m2w64-toolchain`\n",
      "C:\\Users\\Jonathan\\Anaconda3\\lib\\site-packages\\theano\\configdefaults.py:560: UserWarning: DeprecationWarning: there is no c++ compiler.This is deprecated and with Theano 0.11 a c++ compiler will be mandatory\n",
      "  warnings.warn(\"DeprecationWarning: there is no c++ compiler.\"\n",
      "WARNING (theano.configdefaults): g++ not detected ! Theano will be unable to execute optimized C-implementations (for both CPU and GPU) and will default to Python implementations. Performance will be severely degraded. To remove this warning, set Theano flags cxx to an empty string.\n",
      "WARNING (theano.tensor.blas): Using NumPy C-API based implementation for BLAS functions.\n",
      "C:\\Users\\Jonathan\\Anaconda3\\lib\\site-packages\\h5py\\__init__.py:36: FutureWarning: Conversion of the second argument of issubdtype from `float` to `np.floating` is deprecated. In future, it will be treated as `np.float64 == np.dtype(float).type`.\n",
      "  from ._conv import register_converters as _register_converters\n"
     ]
    }
   ],
   "source": [
    "%matplotlib inline\n",
    "import numpy as np\n",
    "import matplotlib.pyplot as plt\n",
    "import seaborn as sns\n",
    "import pymc3 as pm\n",
    "import theano"
   ]
  },
  {
   "cell_type": "markdown",
   "metadata": {},
   "source": [
    "#Try ADVI, OPVI, IAF, NF, HF, SVGD, ASVGD to show variational inference"
   ]
  },
  {
   "cell_type": "code",
   "execution_count": 3,
   "metadata": {},
   "outputs": [],
   "source": [
    "np.random.seed(42)\n",
    "pm.set_tt_rng(42)"
   ]
  },
  {
   "cell_type": "code",
   "execution_count": 4,
   "metadata": {},
   "outputs": [],
   "source": [
    "from sklearn.datasets import load_iris\n",
    "from sklearn.model_selection import train_test_split\n",
    "import theano.tensor as tt\n",
    "\n",
    "X, y = load_iris(True)\n",
    "X_train, X_test, y_train, y_test = train_test_split(X, y)"
   ]
  },
  {
   "cell_type": "code",
   "execution_count": 5,
   "metadata": {},
   "outputs": [],
   "source": [
    "Xt = theano.shared(X_train)\n",
    "yt = theano.shared(y_train)\n",
    "\n",
    "with pm.Model() as iris_model:\n",
    "\n",
    "    # Coefficients for features\n",
    "    β = pm.Normal('β', 0, sd=1e2, shape=(4, 3))\n",
    "    # Transoform to unit interval\n",
    "    a = pm.Flat('a', shape=(3,))\n",
    "    p = tt.nnet.softmax(Xt.dot(β) + a)\n",
    "\n",
    "    observed = pm.Categorical('obs', p=p, observed=yt)"
   ]
  },
  {
   "cell_type": "code",
   "execution_count": 7,
   "metadata": {},
   "outputs": [],
   "source": [
    "#SVGD\n",
    "with iris_model:\n",
    "\n",
    "    # We'll use SVGD\n",
    "    inference = pm.SVGD(n_particles=500, jitter=1)\n",
    "\n",
    "    # Local reference to approximation\n",
    "    approx = inference.approx\n",
    "\n",
    "    # Here we need `more_replacements` to change train_set to test_set\n",
    "    test_probs = approx.sample_node(p, more_replacements={Xt: X_test}, size=100)\n",
    "\n",
    "    # For train set no more replacements needed\n",
    "    train_probs = approx.sample_node(p)"
   ]
  },
  {
   "cell_type": "code",
   "execution_count": 8,
   "metadata": {},
   "outputs": [],
   "source": [
    "test_ok = tt.eq(test_probs.argmax(-1), y_test)\n",
    "train_ok = tt.eq(train_probs.argmax(-1), y_train)\n",
    "test_accuracy = test_ok.mean(-1)\n",
    "train_accuracy = train_ok.mean(-1)"
   ]
  },
  {
   "cell_type": "code",
   "execution_count": 9,
   "metadata": {},
   "outputs": [],
   "source": [
    "eval_tracker = pm.callbacks.Tracker(\n",
    "    test_accuracy=test_accuracy.eval,\n",
    "    train_accuracy=train_accuracy.eval\n",
    ")"
   ]
  },
  {
   "cell_type": "code",
   "execution_count": 11,
   "metadata": {},
   "outputs": [
    {
     "name": "stderr",
     "output_type": "stream",
     "text": [
      "100%|██████████████████████████████████████████████████████████████████████████████| 400/400 [1:45:29<00:00, 15.82s/it]\n"
     ]
    }
   ],
   "source": [
    "inference.fit(400, obj_optimizer=pm.adamax(learning_rate=0.1), callbacks=[eval_tracker]);"
   ]
  },
  {
   "cell_type": "code",
   "execution_count": 24,
   "metadata": {},
   "outputs": [
    {
     "name": "stderr",
     "output_type": "stream",
     "text": [
      "C:\\Users\\Jonathan\\Anaconda3\\lib\\site-packages\\seaborn\\timeseries.py:183: UserWarning: The tsplot function is deprecated and will be removed or replaced (in a substantially altered version) in a future release.\n",
      "  warnings.warn(msg, UserWarning)\n"
     ]
    },
    {
     "data": {
      "image/png": "[encoded data removed]",
      "text/plain": [
       "<matplotlib.figure.Figure at 0x24563852860>"
      ]
     },
     "metadata": {},
     "output_type": "display_data"
    }
   ],
   "source": [
    "sns.tsplot(np.asarray(eval_tracker['test_accuracy']).T, color='red', alpha=.5)\n",
    "sns.tsplot(np.asarray(eval_tracker['train_accuracy']).T, color='blue', alpha=.5)\n",
    "plt.legend(['test_accuracy', 'train_accuracy'])\n",
    "plt.xlabel(\"Iteration\")\n",
    "plt.title('Training Progress')\n",
    "plt.savefig(\"svg_iris.png\")"
   ]
  },
  {
   "cell_type": "code",
   "execution_count": 26,
   "metadata": {},
   "outputs": [
    {
     "data": {
      "text/plain": [
       "<bound method Approximation.collect of <pymc3.variational.approximations.Empirical object at 0x0000024563009EF0>>"
      ]
     },
     "execution_count": 26,
     "metadata": {},
     "output_type": "execute_result"
    }
   ],
   "source": [
    "inference.approx.collect"
   ]
  },
  {
   "cell_type": "code",
   "execution_count": null,
   "metadata": {},
   "outputs": [],
   "source": []
  },
  {
   "cell_type": "code",
   "execution_count": null,
   "metadata": {},
   "outputs": [],
   "source": []
  }
 ],
 "metadata": {
  "kernelspec": {
   "display_name": "Python 3",
   "language": "python",
   "name": "python3"
  },
  "language_info": {
   "codemirror_mode": {
    "name": "ipython",
    "version": 3
   },
   "file_extension": ".py",
   "mimetype": "text/x-python",
   "name": "python",
   "nbconvert_exporter": "python",
   "pygments_lexer": "ipython3",
   "version": "3.6.4"
  }
 },
 "nbformat": 4,
 "nbformat_minor": 2
}
